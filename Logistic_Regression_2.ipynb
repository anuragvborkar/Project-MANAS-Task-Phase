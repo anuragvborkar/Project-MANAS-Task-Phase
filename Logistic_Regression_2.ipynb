{
 "cells": [
  {
   "cell_type": "code",
   "execution_count": 1,
   "metadata": {},
   "outputs": [],
   "source": [
    "import numpy as np\n",
    "from matplotlib import pyplot as plt"
   ]
  },
  {
   "cell_type": "code",
   "execution_count": 2,
   "metadata": {},
   "outputs": [],
   "source": [
    "def load_matrix(address):\n",
    "    \"\"\"Loads data set and returns training set X and output y\"\"\"\n",
    "    data_set = np.loadtxt(address, delimiter=\",\")\n",
    "    x, y = data_set[:, :-1], data_set[:, -1]\n",
    "    y = y.reshape(y.shape[0], 1)\n",
    "    return x, y"
   ]
  },
  {
   "cell_type": "code",
   "execution_count": 3,
   "metadata": {},
   "outputs": [],
   "source": [
    "def scatter_plot(address):\n",
    "    \"\"\"Plots the data\"\"\"\n",
    "    data_set = np.loadtxt(address, delimiter=\",\")\n",
    "    pos, neg = data_set[:,2] == 1, data_set[:,2] == 0\n",
    "    plt.plot(data_set[pos][:,0], data_set[pos][:,1], '+')\n",
    "    plt.plot(data_set[neg][:,0], data_set[neg][:,1], 'x')\n",
    "    plt.legend([ 'y=1', 'y=0'])\n",
    "    plt.xlabel('Microchip test 1')\n",
    "    plt.ylabel('Microchip test 2')"
   ]
  },
  {
   "cell_type": "code",
   "execution_count": 4,
   "metadata": {},
   "outputs": [],
   "source": [
    "def map_feature(x1, x2, m):\n",
    "    x1 = x1.reshape((m,1))\n",
    "    x2 = x2.reshape((m,1))\n",
    "    degree = 6\n",
    "    new_x = np.ones((m, 1))\n",
    "    for i in range(1,degree+1,1):\n",
    "        for j in range(0,i+1,1):\n",
    "            mid = np.multiply((x1**(i-j)),(x2**j))\n",
    "            new_x = np.concatenate([new_x, mid],axis=1)\n",
    "    new_x = new_x[:, 1:]\n",
    "    return new_x"
   ]
  },
  {
   "cell_type": "code",
   "execution_count": 5,
   "metadata": {},
   "outputs": [],
   "source": [
    "def initialize_parameters(size):\n",
    "    \"\"\"Initializes parameters and bias and returns them\"\"\"\n",
    "    w, b = np.zeros((size, 1)), 0\n",
    "    return w, b"
   ]
  },
  {
   "cell_type": "code",
   "execution_count": 6,
   "metadata": {},
   "outputs": [],
   "source": [
    "def sigmoid(x):\n",
    "    \"\"\"Compute the sigmoid of x\"\"\"\n",
    "    s = 1/(1+np.exp(-x))\n",
    "    return s"
   ]
  },
  {
   "cell_type": "code",
   "execution_count": 7,
   "metadata": {},
   "outputs": [],
   "source": [
    "def predict(x, w, b):\n",
    "    \"\"\"Predicts the output based on current weights and biases\"\"\"\n",
    "    predictions = sigmoid(np.dot(x, w)+b)\n",
    "    return predictions"
   ]
  },
  {
   "cell_type": "code",
   "execution_count": 8,
   "metadata": {},
   "outputs": [],
   "source": [
    "def compute_cost_grad(x, y, w, b, m, reg):\n",
    "    h = predict(x, w, b)\n",
    "    delta = 0.0000000000001\n",
    "    cost = (-1/m)*np.sum(y*np.log(h+delta)+(1-y)*np.log(1-h+delta)) + (reg/(2*m))*np.sum(w**2)\n",
    "    dw = (1/m)*np.dot(x.T,(h-y))+(reg/m)*w\n",
    "    db = (1/m)*np.sum(h-y)\n",
    "    return cost, dw, db"
   ]
  },
  {
   "cell_type": "code",
   "execution_count": 9,
   "metadata": {},
   "outputs": [],
   "source": [
    "def gradient_descent(x, y, w, b, m, n, iterations, learn_rate, reg):\n",
    "    '''Implements gradient descent'''\n",
    "    J_hist = np.zeros((iterations,2))\n",
    "    for i in range(iterations):\n",
    "        J_hist[i][0] = i+1 \n",
    "        J_hist[i][1], grad_w, grad_b = compute_cost_grad(x, y, w, b, m, reg)\n",
    "        w = w - learn_rate*grad_w\n",
    "        b = b - learn_rate*grad_b\n",
    "    return w, b, J_hist"
   ]
  },
  {
   "cell_type": "code",
   "execution_count": 10,
   "metadata": {},
   "outputs": [],
   "source": [
    "def plot_cost_history(J_history):\n",
    "    plt.plot(J_history[:, 0], J_history[:, 1])\n",
    "    plt.title(\"Cost History\")\n",
    "    plt.xlabel(\"Number of iterations\")\n",
    "    plt.ylabel(\"Cost\")"
   ]
  },
  {
   "cell_type": "code",
   "execution_count": 24,
   "metadata": {},
   "outputs": [
    {
     "data": {
      "image/png": "[encoded data removed]",
      "text/plain": [
       "<Figure size 432x288 with 1 Axes>"
      ]
     },
     "metadata": {},
     "output_type": "display_data"
    }
   ],
   "source": [
    "training_set_x, training_set_y = load_matrix(\"ex2data2.txt\")\n",
    "examples, features = training_set_x.shape[0], training_set_x.shape[1]\n",
    "\n",
    "learning_rate = 0.01\n",
    "num_iterations = 40000\n",
    "parameter = 1\n",
    "training_set_x = map_feature(training_set_x[:,0], training_set_x[:,1], examples)\n",
    "features = training_set_x.shape[1]\n",
    "weight, bias = initialize_parameters(features)\n",
    "\n",
    "scatter_plot('ex2data2.txt')"
   ]
  },
  {
   "cell_type": "code",
   "execution_count": 25,
   "metadata": {},
   "outputs": [
    {
     "name": "stdout",
     "output_type": "stream",
     "text": [
      "Cost at initial theta (zeros):  0.6931471805597454\n",
      "Gradient at initial theta (zeros):  [[1.87880932e-02]\n",
      " [7.77711864e-05]\n",
      " [5.03446395e-02]\n",
      " [1.15013308e-02]\n",
      " [3.76648474e-02]]\n"
     ]
    }
   ],
   "source": [
    "cost, grad_w, grad_b = compute_cost_grad(training_set_x, training_set_y, weight, bias, examples, parameter)\n",
    "print('Cost at initial theta (zeros): ',cost)\n",
    "\n",
    "print('Gradient at initial theta (zeros): ', grad_w[0:5])"
   ]
  },
  {
   "cell_type": "code",
   "execution_count": 26,
   "metadata": {},
   "outputs": [
    {
     "name": "stdout",
     "output_type": "stream",
     "text": [
      "Running Gradient Descent...\n",
      "Parameters found by gradient descent:\n",
      "Weight:  [[ 0.62209232]\n",
      " [ 1.17784296]\n",
      " [-2.01086084]\n",
      " [-0.90852208]\n",
      " [-1.41396819]\n",
      " [ 0.1234925 ]\n",
      " [-0.36507051]\n",
      " [-0.35892138]\n",
      " [-0.17448749]\n",
      " [-1.4563797 ]\n",
      " [-0.05548084]\n",
      " [-0.61388567]\n",
      " [-0.27216133]\n",
      " [-1.19067541]\n",
      " [-0.24131927]\n",
      " [-0.2072748 ]\n",
      " [-0.04861072]\n",
      " [-0.27610141]\n",
      " [-0.29424505]\n",
      " [-0.4625192 ]\n",
      " [-1.04301599]\n",
      " [ 0.024114  ]\n",
      " [-0.29248112]\n",
      " [ 0.01294798]\n",
      " [-0.32644414]\n",
      " [-0.14224194]\n",
      " [-0.93135135]]\n",
      "\n",
      "Bias:  1.266589216148456\n",
      "Final cost:  0.5290063402366213\n"
     ]
    }
   ],
   "source": [
    "print(\"Running Gradient Descent...\")\n",
    "weight, bias, J_history = gradient_descent(training_set_x, training_set_y, weight, bias, examples, features, num_iterations, learning_rate, parameter)\n",
    "print('Parameters found by gradient descent:\\nWeight: ', weight)\n",
    "print('\\nBias: ', bias)\n",
    "print('Final cost: ',J_history[-1][1])"
   ]
  },
  {
   "cell_type": "code",
   "execution_count": 27,
   "metadata": {},
   "outputs": [
    {
     "data": {
      "text/plain": [
       "<matplotlib.contour.QuadContourSet at 0x7f004fbac6d8>"
      ]
     },
     "execution_count": 27,
     "metadata": {},
     "output_type": "execute_result"
    },
    {
     "data": {
      "image/png": "[encoded data removed]",
      "text/plain": [
       "<Figure size 432x288 with 1 Axes>"
      ]
     },
     "metadata": {},
     "output_type": "display_data"
    }
   ],
   "source": [
    "scatter_plot('ex2data2.txt')\n",
    "u = np.linspace(-1, 1.5, 50)\n",
    "v = np.linspace(-1, 1.5, 50)\n",
    "z = np.zeros((len(u),len(v)))\n",
    "for i in range(0, len(u),1):\n",
    "    for j in range(0, len(v),1):\n",
    "        z[i,j] = np.dot(map_feature(u[i], v[j], 1), weight)+bias\n",
    "z = z.T\n",
    "plt.contour(u, v, z, 0)"
   ]
  },
  {
   "cell_type": "code",
   "execution_count": 28,
   "metadata": {},
   "outputs": [
    {
     "name": "stdout",
     "output_type": "stream",
     "text": [
      "Count:  98\n"
     ]
    }
   ],
   "source": [
    "predictions = predict(training_set_x, weight, bias)\n",
    "predictions = predictions>=0.5\n",
    "predictions = predictions.astype(int)\n",
    "cnt = 0\n",
    "for i in range(examples):\n",
    "    if predictions[i]==training_set_y[i]:\n",
    "        cnt = cnt+1\n",
    "print(\"Count: \",cnt)"
   ]
  },
  {
   "cell_type": "code",
   "execution_count": 29,
   "metadata": {},
   "outputs": [
    {
     "data": {
      "image/png": "[encoded data removed]",
      "text/plain": [
       "<Figure size 432x288 with 1 Axes>"
      ]
     },
     "metadata": {},
     "output_type": "display_data"
    }
   ],
   "source": [
    "plot_cost_history(J_history)"
   ]
  },
  {
   "cell_type": "code",
   "execution_count": null,
   "metadata": {},
   "outputs": [],
   "source": []
  }
 ],
 "metadata": {
  "kernelspec": {
   "display_name": "Python 3",
   "language": "python",
   "name": "python3"
  },
  "language_info": {
   "codemirror_mode": {
    "name": "ipython",
    "version": 3
   },
   "file_extension": ".py",
   "mimetype": "text/x-python",
   "name": "python",
   "nbconvert_exporter": "python",
   "pygments_lexer": "ipython3",
   "version": "3.6.5"
  }
 },
 "nbformat": 4,
 "nbformat_minor": 2
}
