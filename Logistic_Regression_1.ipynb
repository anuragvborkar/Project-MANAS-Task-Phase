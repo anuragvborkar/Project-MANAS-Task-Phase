{
 "cells": [
  {
   "cell_type": "code",
   "execution_count": 1,
   "metadata": {},
   "outputs": [],
   "source": [
    "import numpy as np\n",
    "from matplotlib import pyplot as plt"
   ]
  },
  {
   "cell_type": "code",
   "execution_count": 2,
   "metadata": {},
   "outputs": [],
   "source": [
    "def load_matrix(address):\n",
    "    \"\"\"Loads data set and returns training set X and output y\"\"\"\n",
    "    data_set = np.loadtxt(address, delimiter=\",\")\n",
    "    x, y = data_set[:, :-1], data_set[:, -1]\n",
    "    y = y.reshape(y.shape[0], 1)\n",
    "    return x, y"
   ]
  },
  {
   "cell_type": "code",
   "execution_count": 3,
   "metadata": {},
   "outputs": [],
   "source": [
    "def scatter_plot(address):\n",
    "    \"\"\"Plots the data\"\"\"\n",
    "    data_set = np.loadtxt(address, delimiter=\",\")\n",
    "    pos, neg = data_set[:,2] == 1, data_set[:,2] == 0\n",
    "    plt.plot(data_set[pos][:,0], data_set[pos][:,1], '+')\n",
    "    plt.plot(data_set[neg][:,0], data_set[neg][:,1], 'x')\n",
    "    plt.legend([ 'Admitted', 'Not admitted'])\n",
    "    plt.xlabel('Exam 1 Score')\n",
    "    plt.ylabel('Exam 2 Score')"
   ]
  },
  {
   "cell_type": "code",
   "execution_count": 4,
   "metadata": {},
   "outputs": [],
   "source": [
    "def sigmoid(x):\n",
    "    \"\"\"Compute the sigmoid of x\"\"\"\n",
    "    s = 1/(1+np.exp(-x))\n",
    "    return s"
   ]
  },
  {
   "cell_type": "code",
   "execution_count": 5,
   "metadata": {},
   "outputs": [],
   "source": [
    "def initialize_parameters(size):\n",
    "    \"\"\"Initializes parameters and bias and returns them\"\"\"\n",
    "    w, b = np.zeros((size, 1)), 0\n",
    "    b=-24\n",
    "    w[0][0], w[1][0]=0.2, 0.2\n",
    "    return w, b"
   ]
  },
  {
   "cell_type": "code",
   "execution_count": 6,
   "metadata": {},
   "outputs": [],
   "source": [
    "def predict(x, w, b):\n",
    "    \"\"\"Predicts the output based on current weights and biases\"\"\"\n",
    "    predictions = sigmoid(np.dot(x, w)+b)\n",
    "    return predictions"
   ]
  },
  {
   "cell_type": "code",
   "execution_count": 7,
   "metadata": {},
   "outputs": [],
   "source": [
    "def compute_cost_grad(x, y, w, b, m):\n",
    "    h = predict(x, w, b)\n",
    "    cost = (-1/m)*np.sum(y*np.log(h+0.0000000001)+(1-y)*np.log(1.0000000001-h))\n",
    "    dw = (1/m)*np.dot(training_set_x.T,(h-y))\n",
    "    db = (1/m)*np.sum(h-y)\n",
    "    return cost, dw, db"
   ]
  },
  {
   "cell_type": "code",
   "execution_count": 8,
   "metadata": {},
   "outputs": [],
   "source": [
    "def gradient_descent(x, y, w, b, m, n, iterations, learn_rate):\n",
    "    '''Implements gradient descent'''\n",
    "    J_hist = np.zeros((iterations,2))\n",
    "    for i in range(iterations):\n",
    "        J_hist[i][0] = i+1 \n",
    "        J_hist[i][1], grad_w, grad_b = compute_cost_grad(x, y, w, b, m)\n",
    "        w = w - learn_rate*grad_w\n",
    "        b = b - learn_rate*grad_b\n",
    "    return w, b, J_hist"
   ]
  },
  {
   "cell_type": "code",
   "execution_count": 9,
   "metadata": {},
   "outputs": [],
   "source": [
    "def plot_cost_history(J_history):\n",
    "    plt.plot(J_history[:, 0], J_history[:, 1])\n",
    "    plt.title(\"Cost History\")\n",
    "    plt.xlabel(\"Number of iterations\")\n",
    "    plt.ylabel(\"Cost\")"
   ]
  },
  {
   "cell_type": "code",
   "execution_count": 10,
   "metadata": {},
   "outputs": [
    {
     "data": {
      "image/png": "[encoded data removed]",
      "text/plain": [
       "<Figure size 432x288 with 1 Axes>"
      ]
     },
     "metadata": {},
     "output_type": "display_data"
    }
   ],
   "source": [
    "training_set_x, training_set_y = load_matrix(\"ex2data1.txt\")\n",
    "examples, features = training_set_x.shape[0], training_set_x.shape[1]\n",
    "\n",
    "learning_rate = 0.00001\n",
    "num_iterations = 2000\n",
    "weight, bias = initialize_parameters(features)\n",
    "\n",
    "scatter_plot('ex2data1.txt')"
   ]
  },
  {
   "cell_type": "code",
   "execution_count": 11,
   "metadata": {},
   "outputs": [
    {
     "name": "stdout",
     "output_type": "stream",
     "text": [
      "Cost at initial parameters (zeros):  0.21833019366405806\n",
      "\n",
      "Weight Gradients:  [[2.56623412]\n",
      " [2.64679737]]\n",
      "\n",
      "Bias Gradient:  0.042902994899534454\n"
     ]
    }
   ],
   "source": [
    "cost, grad_w, grad_b = compute_cost_grad(training_set_x, training_set_y, weight, bias, examples)\n",
    "print(\"Cost at initial parameters (zeros): \", cost)\n",
    "print(\"\\nWeight Gradients: \", grad_w)\n",
    "print(\"\\nBias Gradient: \", grad_b)"
   ]
  },
  {
   "cell_type": "code",
   "execution_count": 12,
   "metadata": {},
   "outputs": [
    {
     "name": "stdout",
     "output_type": "stream",
     "text": [
      "Running Gradient Descent...\n",
      "Parameters found by gradient descent:\n",
      "Weight:  [[0.19571123]\n",
      " [0.19335622]]\n",
      "\n",
      "Bias:  -24.000096128270876\n",
      "Final cost:  0.2037625090535351\n"
     ]
    }
   ],
   "source": [
    "print(\"Running Gradient Descent...\")\n",
    "weight, bias, J_history = gradient_descent(training_set_x, training_set_y, weight, bias, examples, features, num_iterations, learning_rate)\n",
    "print('Parameters found by gradient descent:\\nWeight: ', weight)\n",
    "print('\\nBias: ', bias)\n",
    "print('Final cost: ',J_history[-1][1])"
   ]
  },
  {
   "cell_type": "code",
   "execution_count": 25,
   "metadata": {},
   "outputs": [
    {
     "data": {
      "text/plain": [
       "<matplotlib.legend.Legend at 0x7fa58e389550>"
      ]
     },
     "execution_count": 25,
     "metadata": {},
     "output_type": "execute_result"
    },
    {
     "data": {
      "image/png": "[encoded data removed]",
      "text/plain": [
       "<Figure size 432x288 with 1 Axes>"
      ]
     },
     "metadata": {},
     "output_type": "display_data"
    }
   ],
   "source": [
    "scatter_plot('ex2data1.txt')\n",
    "\n",
    "plot_x = [min(training_set_x[:,1])-2,  max(training_set_x[:,1])+2]\n",
    "plot_y = (-1/weight[1])*(weight[0]*plot_x + bias)\n",
    "plt.plot(plot_x, plot_y)\n",
    "plt.legend(['Admitted', 'Not admitted', 'Decision Boundary'])"
   ]
  },
  {
   "cell_type": "code",
   "execution_count": 13,
   "metadata": {},
   "outputs": [
    {
     "data": {
      "image/png": "[encoded data removed]",
      "text/plain": [
       "<Figure size 432x288 with 1 Axes>"
      ]
     },
     "metadata": {},
     "output_type": "display_data"
    }
   ],
   "source": [
    "plot_cost_history(J_history)"
   ]
  },
  {
   "cell_type": "code",
   "execution_count": 14,
   "metadata": {},
   "outputs": [
    {
     "name": "stdout",
     "output_type": "stream",
     "text": [
      "Correctly predicted data count:  90\n"
     ]
    }
   ],
   "source": [
    "predictions = predict(training_set_x, weight, bias)\n",
    "predictions = predictions>=0.5\n",
    "predictions = predictions.astype(int)\n",
    "cnt = 0\n",
    "for i in range(examples):\n",
    "    if predictions[i]==training_set_y[i]:\n",
    "        cnt = cnt+1\n",
    "print(\"Correctly predicted data count: \",cnt)"
   ]
  },
  {
   "cell_type": "code",
   "execution_count": 15,
   "metadata": {},
   "outputs": [
    {
     "name": "stdout",
     "output_type": "stream",
     "text": [
      "For a student with scores 45 and 85, we predict an admission probability:  [[0.7759446]]\n",
      "Loss:  0.13119931512765087\n"
     ]
    }
   ],
   "source": [
    "test = np.mat([[45, 85]])\n",
    "prob = predict(test, weight, bias)\n",
    "print(\"For a student with scores 45 and 85, we predict an admission probability: \",prob)\n",
    "print(\"Loss: \", np.mean(abs(predict(training_set_x, weight, bias) -training_set_y)))"
   ]
  },
  {
   "cell_type": "code",
   "execution_count": null,
   "metadata": {},
   "outputs": [],
   "source": []
  }
 ],
 "metadata": {
  "kernelspec": {
   "display_name": "Python 3",
   "language": "python",
   "name": "python3"
  },
  "language_info": {
   "codemirror_mode": {
    "name": "ipython",
    "version": 3
   },
   "file_extension": ".py",
   "mimetype": "text/x-python",
   "name": "python",
   "nbconvert_exporter": "python",
   "pygments_lexer": "ipython3",
   "version": "3.6.5"
  }
 },
 "nbformat": 4,
 "nbformat_minor": 2
}
