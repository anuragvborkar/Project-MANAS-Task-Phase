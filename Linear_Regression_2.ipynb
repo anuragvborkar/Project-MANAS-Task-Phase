{
 "cells": [
  {
   "cell_type": "code",
   "execution_count": 1,
   "metadata": {},
   "outputs": [],
   "source": [
    "import numpy as np\n",
    "from matplotlib import pyplot as plt"
   ]
  },
  {
   "cell_type": "code",
   "execution_count": 2,
   "metadata": {},
   "outputs": [],
   "source": [
    "def load_matrix(address):\n",
    "    \"\"\"Loads data set and returns training set X and output y\"\"\"\n",
    "    data_set = np.loadtxt(address, delimiter=\",\")\n",
    "    x, y = data_set[:, :-1], data_set[:, -1]\n",
    "    y = y.reshape(y.shape[0], 1)\n",
    "    return x, y"
   ]
  },
  {
   "cell_type": "code",
   "execution_count": 3,
   "metadata": {},
   "outputs": [],
   "source": [
    "def feature_scaling(x):\n",
    "    \"\"\"Implements feature scaling on the training set\"\"\"\n",
    "    mean = np.mean(x, axis=0)\n",
    "    std_dev = np.std(x, axis=0)\n",
    "    mean = mean.reshape((1, x.shape[1]))\n",
    "    std_dev = std_dev.reshape((1, x.shape[1]))\n",
    "    x = x - mean\n",
    "    x = x/std_dev\n",
    "    return x, mean, std_dev"
   ]
  },
  {
   "cell_type": "code",
   "execution_count": 4,
   "metadata": {},
   "outputs": [],
   "source": [
    "def initialize_parameters(size):\n",
    "    \"\"\"Initializes parameters and bias and returns them\"\"\"\n",
    "    w, b = np.zeros((size, 1)), 0\n",
    "    return w, b"
   ]
  },
  {
   "cell_type": "code",
   "execution_count": 5,
   "metadata": {},
   "outputs": [],
   "source": [
    "def predict(x, w, b):\n",
    "    \"\"\"Predicts the output based on current weights and biases\"\"\"\n",
    "    predictions = np.dot(x, w)+b\n",
    "    return predictions"
   ]
  },
  {
   "cell_type": "code",
   "execution_count": 6,
   "metadata": {},
   "outputs": [],
   "source": [
    "def compute_cost(x, y, w, b, m):\n",
    "    h = predict(x, w, b)\n",
    "    cost = (1/(2*m)) * np.dot((h-y).T, h-y)\n",
    "    return cost"
   ]
  },
  {
   "cell_type": "code",
   "execution_count": 7,
   "metadata": {},
   "outputs": [],
   "source": [
    "def gradient_descent(x, y, w, b, m, n, iterations, learn_rate):\n",
    "    J_hist = np.zeros((iterations,2))\n",
    "    for i in range(iterations):\n",
    "        delta = np.zeros((n, 1))\n",
    "        J_hist[i][0] = i+1\n",
    "        J_hist[i][1] = compute_cost(x, y, w, b, m)\n",
    "        for j in range(m):\n",
    "            x = training_set_x[j, :].reshape(1, n)\n",
    "            delta = delta + (predict(x, w, b) - y[j][0]) * x.T\n",
    "        w = w - (learn_rate/m) * delta\n",
    "        b = b - (learn_rate/m) * np.sum(predict(training_set_x, w, b)-training_set_y)\n",
    "    return w, b, J_hist"
   ]
  },
  {
   "cell_type": "code",
   "execution_count": 8,
   "metadata": {},
   "outputs": [],
   "source": [
    "def plot_cost_history(J_history):\n",
    "    plt.plot(J_history[:, 0], J_history[:, 1])\n",
    "    plt.title(\"Cost History\")\n",
    "    plt.xlabel(\"Number of iterations\")\n",
    "    plt.ylabel(\"Cost\")"
   ]
  },
  {
   "cell_type": "code",
   "execution_count": 9,
   "metadata": {},
   "outputs": [],
   "source": [
    "training_set_x, training_set_y = load_matrix(\"ex1data2.txt\")\n",
    "examples, features = training_set_x.shape[0], training_set_x.shape[1]\n",
    "\n",
    "learning_rate = 0.1\n",
    "num_iterations = 100\n",
    "training_set_x, mu, sigma = feature_scaling(training_set_x)\n",
    "weight, bias = initialize_parameters(features)"
   ]
  },
  {
   "cell_type": "code",
   "execution_count": 10,
   "metadata": {},
   "outputs": [
    {
     "name": "stdout",
     "output_type": "stream",
     "text": [
      "Running Gradient Descent...\n",
      "Parameters found by gradient descent:\n",
      "Weight:  [[108803.37852266]\n",
      " [ -5933.9413402 ]]\n",
      "\n",
      "Bias:  340403.61773803073\n",
      "Final cost:  13595681005.467937\n"
     ]
    }
   ],
   "source": [
    "print(\"Running Gradient Descent...\")\n",
    "weight, bias, J_history = gradient_descent(training_set_x, training_set_y, weight, bias, examples, features, num_iterations, learning_rate)\n",
    "print('Parameters found by gradient descent:\\nWeight: ', weight)\n",
    "print('\\nBias: ', bias)\n",
    "print('Final cost: ',J_history[-1][1])"
   ]
  },
  {
   "cell_type": "code",
   "execution_count": 11,
   "metadata": {},
   "outputs": [
    {
     "data": {
      "image/png": "[encoded data removed]",
      "text/plain": [
       "<Figure size 432x288 with 1 Axes>"
      ]
     },
     "metadata": {},
     "output_type": "display_data"
    }
   ],
   "source": [
    "plot_cost_history(J_history)"
   ]
  },
  {
   "cell_type": "code",
   "execution_count": 12,
   "metadata": {},
   "outputs": [
    {
     "name": "stdout",
     "output_type": "stream",
     "text": [
      "Estimated price of a 1650 sqft., 3 bedroom house: $ 293214.16354571155\n"
     ]
    }
   ],
   "source": [
    "a = (1650 - mu[0,0])/sigma[0,0]\n",
    "b = (3 - mu[0,1])/sigma[0,1]\n",
    "test = np.mat([a,b])\n",
    "h = predict(test, weight, bias)\n",
    "print(\"Estimated price of a 1650 sqft., 3 bedroom house: $\", h[0,0])"
   ]
  },
  {
   "cell_type": "code",
   "execution_count": 13,
   "metadata": {},
   "outputs": [
    {
     "name": "stdout",
     "output_type": "stream",
     "text": [
      "Estimated price of a 1650 sqft., 3 bedroom house: $ [[293081.46433489]]\n"
     ]
    }
   ],
   "source": [
    "# Using Normal Equations\n",
    "\n",
    "new_x, new_y = load_matrix(\"ex1data2.txt\")\n",
    "\n",
    "new_one = np.ones((examples,1))\n",
    "new_x = np.concatenate([new_one,new_x],axis=1)\n",
    "\n",
    "paras = np.dot(np.dot(np.linalg.inv(np.dot(new_x.T,new_x)), new_x.T), new_y)\n",
    "\n",
    "test = np.mat([[1], [1650], [3]])\n",
    "print(\"Estimated price of a 1650 sqft., 3 bedroom house: $\", np.dot(paras.T, test))"
   ]
  },
  {
   "cell_type": "code",
   "execution_count": null,
   "metadata": {},
   "outputs": [],
   "source": [
    "#Close enough"
   ]
  }
 ],
 "metadata": {
  "kernelspec": {
   "display_name": "Python 3",
   "language": "python",
   "name": "python3"
  },
  "language_info": {
   "codemirror_mode": {
    "name": "ipython",
    "version": 3
   },
   "file_extension": ".py",
   "mimetype": "text/x-python",
   "name": "python",
   "nbconvert_exporter": "python",
   "pygments_lexer": "ipython3",
   "version": "3.6.5"
  }
 },
 "nbformat": 4,
 "nbformat_minor": 2
}
